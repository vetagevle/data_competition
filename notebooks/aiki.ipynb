{
 "cells": [
  {
   "cell_type": "markdown",
   "id": "b01de3cd",
   "metadata": {},
   "source": [
    "## テンプレート"
   ]
  },
  {
   "cell_type": "markdown",
   "id": "2e3b89b9",
   "metadata": {},
   "source": []
  }
 ],
 "metadata": {
  "language_info": {
   "name": "python"
  }
 },
 "nbformat": 4,
 "nbformat_minor": 5
}
